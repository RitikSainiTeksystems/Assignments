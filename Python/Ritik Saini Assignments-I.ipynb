{
 "cells": [
  {
   "cell_type": "markdown",
   "id": "1149b2ae",
   "metadata": {},
   "source": [
    "### 1.Create a python program find duplicate files by content. User will input path and it will scan all directories, subdirectories to find duplicate file.\n",
    "### 2.Delete the duplicate file."
   ]
  },
  {
   "cell_type": "code",
   "execution_count": 4,
   "id": "9254baf2",
   "metadata": {},
   "outputs": [
    {
     "data": {
      "text/plain": [
       "['text1.txt', 'text2.txt']"
      ]
     },
     "execution_count": 4,
     "metadata": {},
     "output_type": "execute_result"
    }
   ],
   "source": [
    "import os\n",
    "import hashlib\n",
    "d_path = 'D:/file/'\n",
    "files_list = os.listdir(path = d_path)\n",
    "files_list"
   ]
  },
  {
   "cell_type": "code",
   "execution_count": 5,
   "id": "66ecd52a",
   "metadata": {},
   "outputs": [],
   "source": [
    "list1=[]\n",
    "for i in files_list:\n",
    "    obj_f=open(d_path+i,'r')\n",
    "    content = obj_f.read()\n",
    "    obj_f.close()\n",
    "    encode_content = content.encode()\n",
    "    list1.append(hashlib.sha256(encode_content).hexdigest())"
   ]
  },
  {
   "cell_type": "code",
   "execution_count": 6,
   "id": "6aacb9b4",
   "metadata": {},
   "outputs": [
    {
     "data": {
      "text/plain": [
       "{'text1.txt': '52eed7fcda74b813931bbfeeb0e47b85f2fecc0977dcfe9c5ca3496397719267',\n",
       " 'text2.txt': '52eed7fcda74b813931bbfeeb0e47b85f2fecc0977dcfe9c5ca3496397719267'}"
      ]
     },
     "execution_count": 6,
     "metadata": {},
     "output_type": "execute_result"
    }
   ],
   "source": [
    "new_dict = dict(zip(files_list,list1))\n",
    "new_dict"
   ]
  },
  {
   "cell_type": "code",
   "execution_count": 7,
   "id": "d34425da",
   "metadata": {},
   "outputs": [
    {
     "data": {
      "text/plain": [
       "dict_values"
      ]
     },
     "execution_count": 7,
     "metadata": {},
     "output_type": "execute_result"
    }
   ],
   "source": [
    "type(new_dict.values())"
   ]
  },
  {
   "cell_type": "code",
   "execution_count": 8,
   "id": "1b938b39",
   "metadata": {},
   "outputs": [
    {
     "data": {
      "text/plain": [
       "['52eed7fcda74b813931bbfeeb0e47b85f2fecc0977dcfe9c5ca3496397719267',\n",
       " '52eed7fcda74b813931bbfeeb0e47b85f2fecc0977dcfe9c5ca3496397719267']"
      ]
     },
     "execution_count": 8,
     "metadata": {},
     "output_type": "execute_result"
    }
   ],
   "source": [
    "list1"
   ]
  },
  {
   "cell_type": "code",
   "execution_count": 9,
   "id": "f36e6e16",
   "metadata": {},
   "outputs": [
    {
     "name": "stdout",
     "output_type": "stream",
     "text": [
      "True\n"
     ]
    },
    {
     "ename": "IndexError",
     "evalue": "list index out of range",
     "output_type": "error",
     "traceback": [
      "\u001b[1;31m---------------------------------------------------------------------------\u001b[0m",
      "\u001b[1;31mIndexError\u001b[0m                                Traceback (most recent call last)",
      "\u001b[1;32m~\\AppData\\Local\\Temp\\ipykernel_12516\\2879976443.py\u001b[0m in \u001b[0;36m<module>\u001b[1;34m\u001b[0m\n\u001b[0;32m      1\u001b[0m \u001b[1;32mfor\u001b[0m \u001b[0mi\u001b[0m \u001b[1;32min\u001b[0m \u001b[0mrange\u001b[0m\u001b[1;33m(\u001b[0m\u001b[0mlen\u001b[0m\u001b[1;33m(\u001b[0m\u001b[0mlist1\u001b[0m\u001b[1;33m)\u001b[0m\u001b[1;33m)\u001b[0m\u001b[1;33m:\u001b[0m\u001b[1;33m\u001b[0m\u001b[1;33m\u001b[0m\u001b[0m\n\u001b[1;32m----> 2\u001b[1;33m     \u001b[1;32mif\u001b[0m \u001b[0mlist1\u001b[0m\u001b[1;33m[\u001b[0m\u001b[0mi\u001b[0m\u001b[1;33m]\u001b[0m\u001b[1;33m==\u001b[0m\u001b[0mlist1\u001b[0m\u001b[1;33m[\u001b[0m\u001b[0mi\u001b[0m\u001b[1;33m+\u001b[0m\u001b[1;36m1\u001b[0m\u001b[1;33m]\u001b[0m\u001b[1;33m:\u001b[0m\u001b[1;33m\u001b[0m\u001b[1;33m\u001b[0m\u001b[0m\n\u001b[0m\u001b[0;32m      3\u001b[0m         \u001b[0mprint\u001b[0m\u001b[1;33m(\u001b[0m\u001b[1;32mTrue\u001b[0m\u001b[1;33m)\u001b[0m\u001b[1;33m\u001b[0m\u001b[1;33m\u001b[0m\u001b[0m\n\u001b[0;32m      4\u001b[0m     \u001b[1;32melse\u001b[0m\u001b[1;33m:\u001b[0m\u001b[1;33m\u001b[0m\u001b[1;33m\u001b[0m\u001b[0m\n\u001b[0;32m      5\u001b[0m         \u001b[0mprint\u001b[0m\u001b[1;33m(\u001b[0m\u001b[1;32mFalse\u001b[0m\u001b[1;33m)\u001b[0m\u001b[1;33m\u001b[0m\u001b[1;33m\u001b[0m\u001b[0m\n",
      "\u001b[1;31mIndexError\u001b[0m: list index out of range"
     ]
    }
   ],
   "source": [
    "for i in range(len(list1)):\n",
    "    if list1[i]==list1[i+1]:\n",
    "        print(True)\n",
    "    else:\n",
    "        print(False)"
   ]
  },
  {
   "cell_type": "code",
   "execution_count": 10,
   "id": "ecf234e8",
   "metadata": {},
   "outputs": [
    {
     "name": "stdout",
     "output_type": "stream",
     "text": [
      "D:/file/text1.txt\n",
      "D:/file/text2.txt\n"
     ]
    }
   ],
   "source": [
    "for i in new_dict:\n",
    "    file2 = i\n",
    "    new_path = os.path.join(d_path,file2)\n",
    "    print(new_path)\n",
    "    os.remove(new_path)"
   ]
  },
  {
   "cell_type": "markdown",
   "id": "9b20f6ea",
   "metadata": {},
   "source": [
    "### 3.Generate random Password with exact length=6,with minimum 1 uppercase, 2 lowecase,3 digits.\n"
   ]
  },
  {
   "cell_type": "code",
   "execution_count": 11,
   "id": "56456bb0",
   "metadata": {},
   "outputs": [
    {
     "name": "stdout",
     "output_type": "stream",
     "text": [
      "1l9aZ3\n"
     ]
    }
   ],
   "source": [
    "import random\n",
    "lowercase=\"abcdefghijklmnopqrstuvwxyz\"\n",
    "uppercase=lowercase.upper()\n",
    "digits=\"0123456789\" \n",
    "password=\"\"\n",
    "password+=uppercase[random.randint(0,25)]\n",
    "for _ in range(2):\n",
    "    password+=lowercase[random.randint(0,25)]\n",
    "for _ in range(3):\n",
    "    password+=digits[random.randint(0,9)]\n",
    "password=\"\".join(random.sample(password,len(password)))\n",
    "print(password)"
   ]
  }
 ],
 "metadata": {
  "kernelspec": {
   "display_name": "Python 3 (ipykernel)",
   "language": "python",
   "name": "python3"
  },
  "language_info": {
   "codemirror_mode": {
    "name": "ipython",
    "version": 3
   },
   "file_extension": ".py",
   "mimetype": "text/x-python",
   "name": "python",
   "nbconvert_exporter": "python",
   "pygments_lexer": "ipython3",
   "version": "3.9.13"
  }
 },
 "nbformat": 4,
 "nbformat_minor": 5
}
