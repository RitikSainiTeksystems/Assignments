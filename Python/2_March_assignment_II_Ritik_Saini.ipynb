{
 "cells": [
  {
   "cell_type": "markdown",
   "id": "4bf575d8",
   "metadata": {},
   "source": [
    "### 1.Create a python program to find duplicate files by content. User will input path and it will scan all directories, sub-directories to find all duplicates files.\n",
    "Delete the found duplicate file.\n",
    "[Hint: use hashlib]\n"
   ]
  },
  {
   "cell_type": "code",
   "execution_count": 1,
   "id": "a956b2a2",
   "metadata": {},
   "outputs": [
    {
     "data": {
      "text/plain": [
       "['text1.txt', 'text2.txt']"
      ]
     },
     "execution_count": 1,
     "metadata": {},
     "output_type": "execute_result"
    }
   ],
   "source": [
    "import os\n",
    "import hashlib\n",
    "d_path = 'D:/file/'\n",
    "files_list = os.listdir(path = d_path)\n",
    "files_list"
   ]
  },
  {
   "cell_type": "code",
   "execution_count": 2,
   "id": "6a57bc3e",
   "metadata": {},
   "outputs": [],
   "source": [
    "list1=[]\n",
    "for i in files_list:\n",
    "    obj_f=open(d_path+i,'r')\n",
    "    content = obj_f.read()\n",
    "    obj_f.close()\n",
    "    encode_content = content.encode()\n",
    "    list1.append(hashlib.sha256(encode_content).hexdigest())"
   ]
  },
  {
   "cell_type": "code",
   "execution_count": 3,
   "id": "05f9d216",
   "metadata": {},
   "outputs": [
    {
     "data": {
      "text/plain": [
       "{'text1.txt': '3a038375ff866e6d29f52be206cb1ecd0e93a962f4f89a2a7b2433aeaa8e91c1',\n",
       " 'text2.txt': '3a038375ff866e6d29f52be206cb1ecd0e93a962f4f89a2a7b2433aeaa8e91c1'}"
      ]
     },
     "execution_count": 3,
     "metadata": {},
     "output_type": "execute_result"
    }
   ],
   "source": [
    "new_dict = dict(zip(files_list,list1))\n",
    "new_dict"
   ]
  },
  {
   "cell_type": "code",
   "execution_count": 4,
   "id": "9e1f5ec9",
   "metadata": {},
   "outputs": [
    {
     "data": {
      "text/plain": [
       "dict_values"
      ]
     },
     "execution_count": 4,
     "metadata": {},
     "output_type": "execute_result"
    }
   ],
   "source": [
    "type(new_dict.values())"
   ]
  },
  {
   "cell_type": "code",
   "execution_count": 5,
   "id": "0fe72615",
   "metadata": {},
   "outputs": [
    {
     "data": {
      "text/plain": [
       "['3a038375ff866e6d29f52be206cb1ecd0e93a962f4f89a2a7b2433aeaa8e91c1',\n",
       " '3a038375ff866e6d29f52be206cb1ecd0e93a962f4f89a2a7b2433aeaa8e91c1']"
      ]
     },
     "execution_count": 5,
     "metadata": {},
     "output_type": "execute_result"
    }
   ],
   "source": [
    "list1"
   ]
  },
  {
   "cell_type": "code",
   "execution_count": 6,
   "id": "77f8115f",
   "metadata": {},
   "outputs": [
    {
     "name": "stdout",
     "output_type": "stream",
     "text": [
      "True\n"
     ]
    },
    {
     "ename": "IndexError",
     "evalue": "list index out of range",
     "output_type": "error",
     "traceback": [
      "\u001b[1;31m---------------------------------------------------------------------------\u001b[0m",
      "\u001b[1;31mIndexError\u001b[0m                                Traceback (most recent call last)",
      "\u001b[1;32m~\\AppData\\Local\\Temp\\ipykernel_14128\\2879976443.py\u001b[0m in \u001b[0;36m<module>\u001b[1;34m\u001b[0m\n\u001b[0;32m      1\u001b[0m \u001b[1;32mfor\u001b[0m \u001b[0mi\u001b[0m \u001b[1;32min\u001b[0m \u001b[0mrange\u001b[0m\u001b[1;33m(\u001b[0m\u001b[0mlen\u001b[0m\u001b[1;33m(\u001b[0m\u001b[0mlist1\u001b[0m\u001b[1;33m)\u001b[0m\u001b[1;33m)\u001b[0m\u001b[1;33m:\u001b[0m\u001b[1;33m\u001b[0m\u001b[1;33m\u001b[0m\u001b[0m\n\u001b[1;32m----> 2\u001b[1;33m     \u001b[1;32mif\u001b[0m \u001b[0mlist1\u001b[0m\u001b[1;33m[\u001b[0m\u001b[0mi\u001b[0m\u001b[1;33m]\u001b[0m\u001b[1;33m==\u001b[0m\u001b[0mlist1\u001b[0m\u001b[1;33m[\u001b[0m\u001b[0mi\u001b[0m\u001b[1;33m+\u001b[0m\u001b[1;36m1\u001b[0m\u001b[1;33m]\u001b[0m\u001b[1;33m:\u001b[0m\u001b[1;33m\u001b[0m\u001b[1;33m\u001b[0m\u001b[0m\n\u001b[0m\u001b[0;32m      3\u001b[0m         \u001b[0mprint\u001b[0m\u001b[1;33m(\u001b[0m\u001b[1;32mTrue\u001b[0m\u001b[1;33m)\u001b[0m\u001b[1;33m\u001b[0m\u001b[1;33m\u001b[0m\u001b[0m\n\u001b[0;32m      4\u001b[0m     \u001b[1;32melse\u001b[0m\u001b[1;33m:\u001b[0m\u001b[1;33m\u001b[0m\u001b[1;33m\u001b[0m\u001b[0m\n\u001b[0;32m      5\u001b[0m         \u001b[0mprint\u001b[0m\u001b[1;33m(\u001b[0m\u001b[1;32mFalse\u001b[0m\u001b[1;33m)\u001b[0m\u001b[1;33m\u001b[0m\u001b[1;33m\u001b[0m\u001b[0m\n",
      "\u001b[1;31mIndexError\u001b[0m: list index out of range"
     ]
    }
   ],
   "source": [
    "for i in range(len(list1)):\n",
    "    if list1[i]==list1[i+1]:\n",
    "        print(True)\n",
    "    else:\n",
    "        print(False)"
   ]
  },
  {
   "cell_type": "code",
   "execution_count": 7,
   "id": "82c7fa8b",
   "metadata": {},
   "outputs": [
    {
     "name": "stdout",
     "output_type": "stream",
     "text": [
      "D:/file/text1.txt\n",
      "D:/file/text2.txt\n"
     ]
    }
   ],
   "source": [
    "for i in new_dict:\n",
    "    file2 = i\n",
    "    new_path = os.path.join(d_path,file2)\n",
    "    print(new_path)\n",
    "    os.remove(new_path)"
   ]
  },
  {
   "cell_type": "markdown",
   "id": "2ecba5db",
   "metadata": {},
   "source": [
    "### 2.Generate random Password with exact length = 6, with minimum 1 uppercase, 2 lowercase, 2 digits, and remaining special characters.\n",
    "Using these packages [random, strings]\n"
   ]
  },
  {
   "cell_type": "code",
   "execution_count": 2,
   "id": "9b3a77de",
   "metadata": {},
   "outputs": [],
   "source": [
    "import random\n",
    "import string\n",
    "\n",
    "def generate_password():\n",
    "\n",
    "    uppercase = string.ascii_uppercase\n",
    "    lowercase = string.ascii_lowercase\n",
    "    digits = string.digits\n",
    "    special = string.punctuation\n",
    "    \n",
    "    \n",
    "    uppercase_chars = random.sample(uppercase, 1)\n",
    "    lowercase_chars = random.sample(lowercase, 2)\n",
    "    digit_chars = random.sample(digits, 2)\n",
    "   \n",
    "\n",
    "    password_chars = uppercase_chars + lowercase_chars + digit_chars\n",
    "    remaining_chars = ''.join(random.sample(special, 1))\n",
    "    password_chars.append(remaining_chars)\n",
    "    random.shuffle(password_chars)\n",
    "    \n",
    "   \n",
    "    password = ''.join(password_chars)\n",
    "    return password"
   ]
  },
  {
   "cell_type": "code",
   "execution_count": 3,
   "id": "90226863",
   "metadata": {},
   "outputs": [
    {
     "data": {
      "text/plain": [
       "'fqP3~6'"
      ]
     },
     "execution_count": 3,
     "metadata": {},
     "output_type": "execute_result"
    }
   ],
   "source": [
    "generate_password()"
   ]
  },
  {
   "cell_type": "markdown",
   "id": "83aabfee",
   "metadata": {},
   "source": [
    "### 3.Create 2D array and update the same 2D array provided that every prime number position should be replaced by cube of the positioned number."
   ]
  },
  {
   "cell_type": "code",
   "execution_count": 13,
   "id": "75266536",
   "metadata": {},
   "outputs": [
    {
     "name": "stdout",
     "output_type": "stream",
     "text": [
      "[0 1 2 3 4 5 6 7 8]\n",
      "[[  0   1   8]\n",
      " [ 27   4 125]\n",
      " [  6 343   8]]\n"
     ]
    }
   ],
   "source": [
    "import numpy as np\n",
    "import sympy\n",
    "arr1=np.arange(0,9).reshape(3,3)\n",
    "shape = arr1.reshape(9)\n",
    "print(shape)\n",
    "for i in range(len(shape)):\n",
    "    if sympy.isprime(shape[i]):\n",
    "        shape[i]=shape[i]**3\n",
    "        \n",
    "new=shape.reshape(3,3)\n",
    "print(new)"
   ]
  },
  {
   "cell_type": "markdown",
   "id": "c8d1763c",
   "metadata": {},
   "source": [
    "### 4.Python program to get the sum of every cubed value and its previous integer. "
   ]
  },
  {
   "cell_type": "code",
   "execution_count": 8,
   "id": "db02b8d0",
   "metadata": {},
   "outputs": [
    {
     "name": "stdout",
     "output_type": "stream",
     "text": [
      "[[  0   1   9]\n",
      " [ 36   4 129]\n",
      " [  6 349   8]]\n"
     ]
    }
   ],
   "source": [
    "import numpy as np\n",
    "import sympy\n",
    "prime = []\n",
    "arr1=np.arange(0,9).reshape(3,3)\n",
    "shape = arr1.reshape(9)\n",
    "for i in range(len(shape)):\n",
    "    if sympy.isprime(shape[i]):\n",
    "        shape[i]=shape[i]**3\n",
    "        shape[i]=shape[i] + shape[i-1]\n",
    "        \n",
    "new_shape=shape.reshape(3,3)\n",
    "print(new_shape)"
   ]
  },
  {
   "cell_type": "markdown",
   "id": "75387472",
   "metadata": {},
   "source": [
    "### 5.Given two arrays, find their intersection. Examples:"
   ]
  },
  {
   "cell_type": "raw",
   "id": "cbe770f7",
   "metadata": {},
   "source": [
    "Input:  arr1[] = [1, 3, 4, 5, 7]\n",
    "        arr2[] = [2, 3, 5, 6]"
   ]
  },
  {
   "cell_type": "code",
   "execution_count": 6,
   "id": "1b88692d",
   "metadata": {},
   "outputs": [
    {
     "name": "stdout",
     "output_type": "stream",
     "text": [
      "Intersection :  [3, 5]\n"
     ]
    }
   ],
   "source": [
    "# Function to find intersection of two arrays\n",
    "\n",
    "def interSection(arr1,arr2):\n",
    "\n",
    "    result = list(filter(lambda x: x in arr1, arr2))\n",
    "    print (\"Intersection : \",result)\n",
    "\n",
    "# Driver program\n",
    "if __name__ == \"__main__\":\n",
    "    arr1 = [1, 3, 4, 5, 7]\n",
    "    arr2 = [2, 3, 5, 6]\n",
    "    interSection(arr1,arr2)\n"
   ]
  },
  {
   "cell_type": "markdown",
   "id": "7b970d45",
   "metadata": {},
   "source": [
    "### 6.Create a 7 x 7  2D array having only multiples of 7. And return the last element of the same."
   ]
  },
  {
   "cell_type": "code",
   "execution_count": 12,
   "id": "a28d2e40",
   "metadata": {},
   "outputs": [
    {
     "data": {
      "text/plain": [
       "343"
      ]
     },
     "execution_count": 12,
     "metadata": {},
     "output_type": "execute_result"
    }
   ],
   "source": [
    "x=np.array([i*7 for i in range(1,7*7+1)]).reshape(7,7)\n",
    "x[-1,-1]"
   ]
  },
  {
   "cell_type": "markdown",
   "id": "1a84fbd9",
   "metadata": {},
   "source": [
    "### 7.Checker Board Patten using Numpy:\n"
   ]
  },
  {
   "cell_type": "raw",
   "id": "543ab311",
   "metadata": {},
   "source": [
    "\n",
    "[   1   0   1   0   1   0   1\n",
    "    0   1   0   1   0   1   0\n",
    "    1   0   1   0   1   0   1\n",
    "    0   1   0   1   0   1   0\n",
    "    1   0   1   0   1   0   1  ]\n"
   ]
  },
  {
   "cell_type": "code",
   "execution_count": 9,
   "id": "2dc610a7",
   "metadata": {},
   "outputs": [
    {
     "data": {
      "text/plain": [
       "array([[1., 0., 1., 0., 1., 0., 1.],\n",
       "       [0., 1., 0., 1., 0., 1., 0.],\n",
       "       [1., 0., 1., 0., 1., 0., 1.],\n",
       "       [0., 1., 0., 1., 0., 1., 0.],\n",
       "       [1., 0., 1., 0., 1., 0., 1.]])"
      ]
     },
     "execution_count": 9,
     "metadata": {},
     "output_type": "execute_result"
    }
   ],
   "source": [
    "import numpy as np\n",
    "arr1=np.ones((5,7))\n",
    "# start postion : step size\n",
    "arr1[1::2,0::2]=0\n",
    "arr1[0::2,1::2]=0\n",
    "arr1"
   ]
  },
  {
   "cell_type": "markdown",
   "id": "c21d7ee8",
   "metadata": {},
   "source": [
    "### 8.\tCreate a given Matrix:"
   ]
  },
  {
   "cell_type": "raw",
   "id": "c817c1da",
   "metadata": {},
   "source": [
    "[  A,     B,     C,       D\n",
    "   E,     F,     G,       H\n",
    "   I,     a,     K,       L\n",
    "   M,     N,     o,       P\n",
    "   Q,     R,     S,       T\n",
    "   U,     0,     W,       O ]\n",
    "\n",
    "Replace all the vowels by np.nan\n",
    "A, E, I, O U  -- >  np.nan\n",
    "Return the count of the missing values\n"
   ]
  },
  {
   "cell_type": "code",
   "execution_count": 10,
   "id": "bb325bad",
   "metadata": {},
   "outputs": [],
   "source": [
    "import numpy as np\n",
    "arr = np.array([['A','B','C','D'],\n",
    "                ['E','F','G','H'],\n",
    "                ['I','J','K','L'],\n",
    "                ['M','N','O','P'],\n",
    "                ['Q','R','S','T'],\n",
    "                ['U','V','W','X']]\n",
    ")"
   ]
  },
  {
   "cell_type": "code",
   "execution_count": 11,
   "id": "4b213207",
   "metadata": {},
   "outputs": [
    {
     "name": "stdout",
     "output_type": "stream",
     "text": [
      "[['nan' 'B' 'C' 'D']\n",
      " ['nan' 'F' 'G' 'H']\n",
      " ['nan' 'J' 'K' 'L']\n",
      " ['M' 'N' 'nan' 'P']\n",
      " ['Q' 'R' 'S' 'T']\n",
      " ['nan' 'V' 'W' 'X']]\n"
     ]
    }
   ],
   "source": [
    "lis = arr.tolist()\n",
    "for i in range(len(lis)):\n",
    "    for j in range(len(lis[i])):\n",
    "        if lis[i][j]=='A' or lis[i][j]=='E' or lis[i][j]=='I' or lis[i][j]=='O' or lis[i][j]=='U':\n",
    "             lis[i][j] = np.nan\n",
    "                \n",
    "print(np.array(lis)) "
   ]
  }
 ],
 "metadata": {
  "kernelspec": {
   "display_name": "Python 3 (ipykernel)",
   "language": "python",
   "name": "python3"
  },
  "language_info": {
   "codemirror_mode": {
    "name": "ipython",
    "version": 3
   },
   "file_extension": ".py",
   "mimetype": "text/x-python",
   "name": "python",
   "nbconvert_exporter": "python",
   "pygments_lexer": "ipython3",
   "version": "3.9.13"
  }
 },
 "nbformat": 4,
 "nbformat_minor": 5
}
